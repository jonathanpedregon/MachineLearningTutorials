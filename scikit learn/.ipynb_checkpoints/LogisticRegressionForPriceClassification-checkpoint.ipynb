{
 "cells": [
  {
   "cell_type": "code",
   "execution_count": 1,
   "id": "eb874f20",
   "metadata": {},
   "outputs": [],
   "source": [
    "import pandas as pd\n",
    "\n",
    "import matplotlib.pyplot as plt"
   ]
  },
  {
   "cell_type": "code",
   "execution_count": 2,
   "id": "d525d318",
   "metadata": {},
   "outputs": [
    {
     "data": {
      "text/html": [
       "<div>\n",
       "<style scoped>\n",
       "    .dataframe tbody tr th:only-of-type {\n",
       "        vertical-align: middle;\n",
       "    }\n",
       "\n",
       "    .dataframe tbody tr th {\n",
       "        vertical-align: top;\n",
       "    }\n",
       "\n",
       "    .dataframe thead th {\n",
       "        text-align: right;\n",
       "    }\n",
       "</style>\n",
       "<table border=\"1\" class=\"dataframe\">\n",
       "  <thead>\n",
       "    <tr style=\"text-align: right;\">\n",
       "      <th></th>\n",
       "      <th>longitude</th>\n",
       "      <th>latitude</th>\n",
       "      <th>housing_median_age</th>\n",
       "      <th>total_rooms</th>\n",
       "      <th>total_bedrooms</th>\n",
       "      <th>population</th>\n",
       "      <th>households</th>\n",
       "      <th>median_income</th>\n",
       "      <th>median_house_value</th>\n",
       "      <th>ocean_proximity</th>\n",
       "    </tr>\n",
       "  </thead>\n",
       "  <tbody>\n",
       "    <tr>\n",
       "      <th>12981</th>\n",
       "      <td>-121.31</td>\n",
       "      <td>38.68</td>\n",
       "      <td>22.0</td>\n",
       "      <td>1194.0</td>\n",
       "      <td>207.0</td>\n",
       "      <td>545.0</td>\n",
       "      <td>223.0</td>\n",
       "      <td>3.8603</td>\n",
       "      <td>134300.0</td>\n",
       "      <td>INLAND</td>\n",
       "    </tr>\n",
       "    <tr>\n",
       "      <th>11889</th>\n",
       "      <td>-117.37</td>\n",
       "      <td>33.97</td>\n",
       "      <td>38.0</td>\n",
       "      <td>1156.0</td>\n",
       "      <td>241.0</td>\n",
       "      <td>877.0</td>\n",
       "      <td>200.0</td>\n",
       "      <td>1.4514</td>\n",
       "      <td>79900.0</td>\n",
       "      <td>INLAND</td>\n",
       "    </tr>\n",
       "    <tr>\n",
       "      <th>16384</th>\n",
       "      <td>-121.28</td>\n",
       "      <td>38.02</td>\n",
       "      <td>8.0</td>\n",
       "      <td>1868.0</td>\n",
       "      <td>392.0</td>\n",
       "      <td>1258.0</td>\n",
       "      <td>389.0</td>\n",
       "      <td>3.1750</td>\n",
       "      <td>95900.0</td>\n",
       "      <td>INLAND</td>\n",
       "    </tr>\n",
       "    <tr>\n",
       "      <th>10146</th>\n",
       "      <td>-117.92</td>\n",
       "      <td>33.92</td>\n",
       "      <td>19.0</td>\n",
       "      <td>2181.0</td>\n",
       "      <td>400.0</td>\n",
       "      <td>1272.0</td>\n",
       "      <td>337.0</td>\n",
       "      <td>5.1952</td>\n",
       "      <td>302100.0</td>\n",
       "      <td>&lt;1H OCEAN</td>\n",
       "    </tr>\n",
       "    <tr>\n",
       "      <th>9074</th>\n",
       "      <td>-118.15</td>\n",
       "      <td>34.70</td>\n",
       "      <td>36.0</td>\n",
       "      <td>2696.0</td>\n",
       "      <td>454.0</td>\n",
       "      <td>1192.0</td>\n",
       "      <td>452.0</td>\n",
       "      <td>3.9615</td>\n",
       "      <td>116300.0</td>\n",
       "      <td>INLAND</td>\n",
       "    </tr>\n",
       "  </tbody>\n",
       "</table>\n",
       "</div>"
      ],
      "text/plain": [
       "       longitude  latitude  housing_median_age  total_rooms  total_bedrooms  \\\n",
       "12981    -121.31     38.68                22.0       1194.0           207.0   \n",
       "11889    -117.37     33.97                38.0       1156.0           241.0   \n",
       "16384    -121.28     38.02                 8.0       1868.0           392.0   \n",
       "10146    -117.92     33.92                19.0       2181.0           400.0   \n",
       "9074     -118.15     34.70                36.0       2696.0           454.0   \n",
       "\n",
       "       population  households  median_income  median_house_value  \\\n",
       "12981       545.0       223.0         3.8603            134300.0   \n",
       "11889       877.0       200.0         1.4514             79900.0   \n",
       "16384      1258.0       389.0         3.1750             95900.0   \n",
       "10146      1272.0       337.0         5.1952            302100.0   \n",
       "9074       1192.0       452.0         3.9615            116300.0   \n",
       "\n",
       "      ocean_proximity  \n",
       "12981          INLAND  \n",
       "11889          INLAND  \n",
       "16384          INLAND  \n",
       "10146       <1H OCEAN  \n",
       "9074           INLAND  "
      ]
     },
     "execution_count": 2,
     "metadata": {},
     "output_type": "execute_result"
    }
   ],
   "source": [
    "housing_data = pd.read_csv('datasets/housing.csv')\n",
    "\n",
    "housing_data.sample(5)"
   ]
  },
  {
   "cell_type": "code",
   "execution_count": 3,
   "id": "d8a9cc10",
   "metadata": {},
   "outputs": [],
   "source": [
    "housing_data = housing_data.dropna()"
   ]
  },
  {
   "cell_type": "code",
   "execution_count": 4,
   "id": "bf7fa680",
   "metadata": {},
   "outputs": [],
   "source": [
    "housing_data = housing_data.drop(housing_data.loc[housing_data['median_house_value'] == 500001].index)"
   ]
  },
  {
   "cell_type": "code",
   "execution_count": 5,
   "id": "25e16dd7",
   "metadata": {},
   "outputs": [
    {
     "data": {
      "text/plain": [
       "(19475, 10)"
      ]
     },
     "execution_count": 5,
     "metadata": {},
     "output_type": "execute_result"
    }
   ],
   "source": [
    "housing_data.shape"
   ]
  },
  {
   "cell_type": "code",
   "execution_count": 6,
   "id": "38c01a06",
   "metadata": {},
   "outputs": [],
   "source": [
    "housing_data = pd.get_dummies(housing_data, columns=['ocean_proximity'])"
   ]
  },
  {
   "cell_type": "code",
   "execution_count": 8,
   "id": "fab80cd4",
   "metadata": {},
   "outputs": [
    {
     "data": {
      "text/plain": [
       "173800.0"
      ]
     },
     "execution_count": 8,
     "metadata": {},
     "output_type": "execute_result"
    }
   ],
   "source": [
    "median = housing_data['median_house_value'].median()\n",
    "\n",
    "median"
   ]
  },
  {
   "cell_type": "code",
   "execution_count": 9,
   "id": "1cf81e7e",
   "metadata": {},
   "outputs": [],
   "source": [
    "housing_data['above_median'] = (housing_data['median_house_value'] - median) > 0"
   ]
  },
  {
   "cell_type": "code",
   "execution_count": 10,
   "id": "af30cd0d",
   "metadata": {},
   "outputs": [
    {
     "data": {
      "text/html": [
       "<div>\n",
       "<style scoped>\n",
       "    .dataframe tbody tr th:only-of-type {\n",
       "        vertical-align: middle;\n",
       "    }\n",
       "\n",
       "    .dataframe tbody tr th {\n",
       "        vertical-align: top;\n",
       "    }\n",
       "\n",
       "    .dataframe thead th {\n",
       "        text-align: right;\n",
       "    }\n",
       "</style>\n",
       "<table border=\"1\" class=\"dataframe\">\n",
       "  <thead>\n",
       "    <tr style=\"text-align: right;\">\n",
       "      <th></th>\n",
       "      <th>longitude</th>\n",
       "      <th>latitude</th>\n",
       "      <th>housing_median_age</th>\n",
       "      <th>total_rooms</th>\n",
       "      <th>total_bedrooms</th>\n",
       "      <th>population</th>\n",
       "      <th>households</th>\n",
       "      <th>median_income</th>\n",
       "      <th>median_house_value</th>\n",
       "      <th>ocean_proximity_&lt;1H OCEAN</th>\n",
       "      <th>ocean_proximity_INLAND</th>\n",
       "      <th>ocean_proximity_ISLAND</th>\n",
       "      <th>ocean_proximity_NEAR BAY</th>\n",
       "      <th>ocean_proximity_NEAR OCEAN</th>\n",
       "      <th>above_median</th>\n",
       "    </tr>\n",
       "  </thead>\n",
       "  <tbody>\n",
       "    <tr>\n",
       "      <th>12997</th>\n",
       "      <td>-121.26</td>\n",
       "      <td>38.68</td>\n",
       "      <td>13.0</td>\n",
       "      <td>4256.0</td>\n",
       "      <td>619.0</td>\n",
       "      <td>1948.0</td>\n",
       "      <td>622.0</td>\n",
       "      <td>5.2051</td>\n",
       "      <td>167400.0</td>\n",
       "      <td>0</td>\n",
       "      <td>1</td>\n",
       "      <td>0</td>\n",
       "      <td>0</td>\n",
       "      <td>0</td>\n",
       "      <td>False</td>\n",
       "    </tr>\n",
       "    <tr>\n",
       "      <th>10151</th>\n",
       "      <td>-117.92</td>\n",
       "      <td>33.90</td>\n",
       "      <td>13.0</td>\n",
       "      <td>1814.0</td>\n",
       "      <td>320.0</td>\n",
       "      <td>1010.0</td>\n",
       "      <td>313.0</td>\n",
       "      <td>6.3489</td>\n",
       "      <td>337900.0</td>\n",
       "      <td>1</td>\n",
       "      <td>0</td>\n",
       "      <td>0</td>\n",
       "      <td>0</td>\n",
       "      <td>0</td>\n",
       "      <td>True</td>\n",
       "    </tr>\n",
       "    <tr>\n",
       "      <th>2996</th>\n",
       "      <td>-119.04</td>\n",
       "      <td>35.31</td>\n",
       "      <td>11.0</td>\n",
       "      <td>2161.0</td>\n",
       "      <td>371.0</td>\n",
       "      <td>1267.0</td>\n",
       "      <td>388.0</td>\n",
       "      <td>4.1957</td>\n",
       "      <td>92700.0</td>\n",
       "      <td>0</td>\n",
       "      <td>1</td>\n",
       "      <td>0</td>\n",
       "      <td>0</td>\n",
       "      <td>0</td>\n",
       "      <td>False</td>\n",
       "    </tr>\n",
       "    <tr>\n",
       "      <th>9390</th>\n",
       "      <td>-122.53</td>\n",
       "      <td>37.90</td>\n",
       "      <td>44.0</td>\n",
       "      <td>2846.0</td>\n",
       "      <td>551.0</td>\n",
       "      <td>1232.0</td>\n",
       "      <td>537.0</td>\n",
       "      <td>3.8839</td>\n",
       "      <td>327200.0</td>\n",
       "      <td>0</td>\n",
       "      <td>0</td>\n",
       "      <td>0</td>\n",
       "      <td>1</td>\n",
       "      <td>0</td>\n",
       "      <td>True</td>\n",
       "    </tr>\n",
       "    <tr>\n",
       "      <th>1604</th>\n",
       "      <td>-122.07</td>\n",
       "      <td>37.88</td>\n",
       "      <td>11.0</td>\n",
       "      <td>1077.0</td>\n",
       "      <td>318.0</td>\n",
       "      <td>590.0</td>\n",
       "      <td>264.0</td>\n",
       "      <td>3.5536</td>\n",
       "      <td>387200.0</td>\n",
       "      <td>0</td>\n",
       "      <td>0</td>\n",
       "      <td>0</td>\n",
       "      <td>1</td>\n",
       "      <td>0</td>\n",
       "      <td>True</td>\n",
       "    </tr>\n",
       "  </tbody>\n",
       "</table>\n",
       "</div>"
      ],
      "text/plain": [
       "       longitude  latitude  housing_median_age  total_rooms  total_bedrooms  \\\n",
       "12997    -121.26     38.68                13.0       4256.0           619.0   \n",
       "10151    -117.92     33.90                13.0       1814.0           320.0   \n",
       "2996     -119.04     35.31                11.0       2161.0           371.0   \n",
       "9390     -122.53     37.90                44.0       2846.0           551.0   \n",
       "1604     -122.07     37.88                11.0       1077.0           318.0   \n",
       "\n",
       "       population  households  median_income  median_house_value  \\\n",
       "12997      1948.0       622.0         5.2051            167400.0   \n",
       "10151      1010.0       313.0         6.3489            337900.0   \n",
       "2996       1267.0       388.0         4.1957             92700.0   \n",
       "9390       1232.0       537.0         3.8839            327200.0   \n",
       "1604        590.0       264.0         3.5536            387200.0   \n",
       "\n",
       "       ocean_proximity_<1H OCEAN  ocean_proximity_INLAND  \\\n",
       "12997                          0                       1   \n",
       "10151                          1                       0   \n",
       "2996                           0                       1   \n",
       "9390                           0                       0   \n",
       "1604                           0                       0   \n",
       "\n",
       "       ocean_proximity_ISLAND  ocean_proximity_NEAR BAY  \\\n",
       "12997                       0                         0   \n",
       "10151                       0                         0   \n",
       "2996                        0                         0   \n",
       "9390                        0                         1   \n",
       "1604                        0                         1   \n",
       "\n",
       "       ocean_proximity_NEAR OCEAN  above_median  \n",
       "12997                           0         False  \n",
       "10151                           0          True  \n",
       "2996                            0         False  \n",
       "9390                            0          True  \n",
       "1604                            0          True  "
      ]
     },
     "execution_count": 10,
     "metadata": {},
     "output_type": "execute_result"
    }
   ],
   "source": [
    "housing_data.sample(5)"
   ]
  },
  {
   "cell_type": "code",
   "execution_count": 11,
   "id": "5c3bc2d5",
   "metadata": {},
   "outputs": [],
   "source": [
    "X = housing_data.drop(['median_house_value', 'above_median'], axis=1)\n",
    "Y = housing_data['above_median']"
   ]
  },
  {
   "cell_type": "code",
   "execution_count": 12,
   "id": "706c88c3",
   "metadata": {},
   "outputs": [],
   "source": [
    "from sklearn.model_selection import train_test_split\n",
    "\n",
    "x_train, x_test, y_train, y_test = train_test_split(X, Y, test_size=0.2)"
   ]
  },
  {
   "cell_type": "code",
   "execution_count": 13,
   "id": "0aa2d59a",
   "metadata": {},
   "outputs": [],
   "source": [
    "from sklearn.linear_model import LogisticRegression\n",
    "\n",
    "logistic_model = LogisticRegression(solver='liblinear').fit(x_train, y_train)"
   ]
  },
  {
   "cell_type": "code",
   "execution_count": 15,
   "id": "14eb604f",
   "metadata": {},
   "outputs": [
    {
     "name": "stdout",
     "output_type": "stream",
     "text": [
      "Training_score:  0.8219512195121951\n"
     ]
    }
   ],
   "source": [
    "print(\"Training_score: \", logistic_model.score(x_train, y_train))"
   ]
  },
  {
   "cell_type": "code",
   "execution_count": 16,
   "id": "75c3883c",
   "metadata": {},
   "outputs": [],
   "source": [
    "y_pred = logistic_model.predict(x_test)"
   ]
  },
  {
   "cell_type": "code",
   "execution_count": 17,
   "id": "47e730b0",
   "metadata": {},
   "outputs": [
    {
     "data": {
      "text/html": [
       "<div>\n",
       "<style scoped>\n",
       "    .dataframe tbody tr th:only-of-type {\n",
       "        vertical-align: middle;\n",
       "    }\n",
       "\n",
       "    .dataframe tbody tr th {\n",
       "        vertical-align: top;\n",
       "    }\n",
       "\n",
       "    .dataframe thead th {\n",
       "        text-align: right;\n",
       "    }\n",
       "</style>\n",
       "<table border=\"1\" class=\"dataframe\">\n",
       "  <thead>\n",
       "    <tr style=\"text-align: right;\">\n",
       "      <th></th>\n",
       "      <th>predicted</th>\n",
       "      <th>actual</th>\n",
       "    </tr>\n",
       "  </thead>\n",
       "  <tbody>\n",
       "    <tr>\n",
       "      <th>13907</th>\n",
       "      <td>False</td>\n",
       "      <td>False</td>\n",
       "    </tr>\n",
       "    <tr>\n",
       "      <th>6880</th>\n",
       "      <td>True</td>\n",
       "      <td>True</td>\n",
       "    </tr>\n",
       "    <tr>\n",
       "      <th>5805</th>\n",
       "      <td>False</td>\n",
       "      <td>True</td>\n",
       "    </tr>\n",
       "    <tr>\n",
       "      <th>12985</th>\n",
       "      <td>False</td>\n",
       "      <td>False</td>\n",
       "    </tr>\n",
       "    <tr>\n",
       "      <th>13209</th>\n",
       "      <td>False</td>\n",
       "      <td>False</td>\n",
       "    </tr>\n",
       "    <tr>\n",
       "      <th>11017</th>\n",
       "      <td>True</td>\n",
       "      <td>True</td>\n",
       "    </tr>\n",
       "    <tr>\n",
       "      <th>3942</th>\n",
       "      <td>True</td>\n",
       "      <td>True</td>\n",
       "    </tr>\n",
       "    <tr>\n",
       "      <th>6903</th>\n",
       "      <td>True</td>\n",
       "      <td>True</td>\n",
       "    </tr>\n",
       "    <tr>\n",
       "      <th>2890</th>\n",
       "      <td>False</td>\n",
       "      <td>False</td>\n",
       "    </tr>\n",
       "    <tr>\n",
       "      <th>7222</th>\n",
       "      <td>False</td>\n",
       "      <td>False</td>\n",
       "    </tr>\n",
       "  </tbody>\n",
       "</table>\n",
       "</div>"
      ],
      "text/plain": [
       "       predicted  actual\n",
       "13907      False   False\n",
       "6880        True    True\n",
       "5805       False    True\n",
       "12985      False   False\n",
       "13209      False   False\n",
       "11017       True    True\n",
       "3942        True    True\n",
       "6903        True    True\n",
       "2890       False   False\n",
       "7222       False   False"
      ]
     },
     "execution_count": 17,
     "metadata": {},
     "output_type": "execute_result"
    }
   ],
   "source": [
    "df_pred_actual = pd.DataFrame({'predicted': y_pred, 'actual': y_test})\n",
    "\n",
    "df_pred_actual.head(10)"
   ]
  },
  {
   "cell_type": "code",
   "execution_count": 19,
   "id": "399f6116",
   "metadata": {},
   "outputs": [
    {
     "name": "stdout",
     "output_type": "stream",
     "text": [
      "Testing_score:  0.8148908857509628\n"
     ]
    }
   ],
   "source": [
    "from sklearn.metrics import accuracy_score\n",
    "\n",
    "print('Testing_score: ', accuracy_score(y_test, y_pred))"
   ]
  },
  {
   "cell_type": "code",
   "execution_count": null,
   "id": "69b02638",
   "metadata": {},
   "outputs": [],
   "source": []
  }
 ],
 "metadata": {
  "kernelspec": {
   "display_name": "Python 3 (ipykernel)",
   "language": "python",
   "name": "python3"
  },
  "language_info": {
   "codemirror_mode": {
    "name": "ipython",
    "version": 3
   },
   "file_extension": ".py",
   "mimetype": "text/x-python",
   "name": "python",
   "nbconvert_exporter": "python",
   "pygments_lexer": "ipython3",
   "version": "3.10.2"
  }
 },
 "nbformat": 4,
 "nbformat_minor": 5
}
